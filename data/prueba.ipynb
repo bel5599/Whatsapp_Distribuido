{
 "cells": [
  {
   "cell_type": "code",
   "execution_count": 2,
   "metadata": {},
   "outputs": [
    {
     "ename": "ImportError",
     "evalue": "cannot import name 'DeclarativeBase' from 'sqlalchemy.orm' (c:\\Users\\Dany\\AppData\\Local\\Programs\\Python\\Python310\\lib\\site-packages\\sqlalchemy\\orm\\__init__.py)",
     "output_type": "error",
     "traceback": [
      "\u001b[1;31m---------------------------------------------------------------------------\u001b[0m",
      "\u001b[1;31mImportError\u001b[0m                               Traceback (most recent call last)",
      "\u001b[1;32md:\\UH_Computer Science\\4to\\Sistemas Distribuidos\\Proyecto Final\\Whatsapp_Distribuido\\data\\prueba.ipynb Cell 1\u001b[0m in \u001b[0;36m1\n\u001b[1;32m----> <a href='vscode-notebook-cell:/d%3A/UH_Computer%20Science/4to/Sistemas%20Distribuidos/Proyecto%20Final/Whatsapp_Distribuido/data/prueba.ipynb#W0sZmlsZQ%3D%3D?line=0'>1</a>\u001b[0m \u001b[39mfrom\u001b[39;00m \u001b[39msqlalchemy\u001b[39;00m\u001b[39m.\u001b[39;00m\u001b[39morm\u001b[39;00m \u001b[39mimport\u001b[39;00m DeclarativeBase\n",
      "\u001b[1;31mImportError\u001b[0m: cannot import name 'DeclarativeBase' from 'sqlalchemy.orm' (c:\\Users\\Dany\\AppData\\Local\\Programs\\Python\\Python310\\lib\\site-packages\\sqlalchemy\\orm\\__init__.py)"
     ]
    }
   ],
   "source": [
    "from sqlalchemy.orm import DeclarativeBase"
   ]
  }
 ],
 "metadata": {
  "kernelspec": {
   "display_name": "Python 3",
   "language": "python",
   "name": "python3"
  },
  "language_info": {
   "codemirror_mode": {
    "name": "ipython",
    "version": 3
   },
   "file_extension": ".py",
   "mimetype": "text/x-python",
   "name": "python",
   "nbconvert_exporter": "python",
   "pygments_lexer": "ipython3",
   "version": "3.10.5"
  },
  "orig_nbformat": 4
 },
 "nbformat": 4,
 "nbformat_minor": 2
}
